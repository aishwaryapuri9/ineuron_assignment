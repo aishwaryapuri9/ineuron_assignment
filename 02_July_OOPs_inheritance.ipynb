{
  "nbformat": 4,
  "nbformat_minor": 0,
  "metadata": {
    "colab": {
      "provenance": []
    },
    "kernelspec": {
      "name": "python3",
      "display_name": "Python 3"
    },
    "language_info": {
      "name": "python"
    }
  },
  "cells": [
    {
      "cell_type": "markdown",
      "source": [
        "1.Explain what inheritance is in object-oriented programming and why it is used.\n",
        "\n",
        "Ans -The most significant components of Object Oriented Programming is inheritance. Inheritance is provides code re-usability. In place of writing the same code, again and again, we can simply inherit the properties of one class into the other. Inheritance is a technique of modelling real-world relationships, and OOP is all about real-world objects.Subclass is a class which inherits the other class. It is also called a derived class or child class. The features of a subclass are inherited from the superclass. It's also known as a parent class or a base class.\n",
        "\n",
        "There are various types of inheritance,\n",
        "\n",
        "1. Single inheritance\n",
        "\n",
        "2. Multiple inheritance\n",
        "\n",
        "3. Multilevel inheritance\n",
        "\n",
        "4. Hierarchical inheritance\n",
        "\n",
        "5. Hybrid inheritance\n",
        "\n",
        "Inheritance is used in oop's beacause of reusability, is a feature that allows you to reuse the fields and methods of an existing class while creating a new one. The fields and methods defined in the preceding class can be reused. It helps to reduce the duplicate code by sharing common code"
      ],
      "metadata": {
        "id": "Bf3SuFDIS2Ov"
      }
    },
    {
      "cell_type": "markdown",
      "source": [
        "2. Discuss the concept of single inheritance and multiple inheritance, highlighting their\n",
        "differences and advantages.\n",
        "\n",
        "Ans- Single Inheritance - When child class is **derived from only one parent class**. This is called single inheritance. Consider we have two classes i.e class A (parent class) and class B (child class). Class B (child class) is derived from class A. Class B holds all the properties of class A. It is the **inheritance type that is most frequently used**. It is **simplier than multiple inheritance**.\n",
        "\n",
        "Multiple Inheritance - When child class is **derived from more than one parent class**. This is called multiple inheritance. In multiple inheritance, we have two parent classes and one child class that inherits both parent classes properties. It has advantage if we have a requirement of **gathering multiple characteristics from different classes**.It is **complex than single inhertance**.\n",
        "\n",
        "\n",
        "\n"
      ],
      "metadata": {
        "id": "f64HqVQD5jzT"
      }
    },
    {
      "cell_type": "code",
      "execution_count": null,
      "metadata": {
        "id": "0nwl1CIlSjLG"
      },
      "outputs": [],
      "source": [
        "#Example of single inheritance\n",
        "\n",
        "class Person:\n",
        "  def __init__(self,name):\n",
        "    self.name=name\n",
        "\n",
        "  def display_info(self):\n",
        "    print(f\"Name is : {self.name}\")\n"
      ]
    },
    {
      "cell_type": "code",
      "source": [
        "class Student(Person):\n",
        "  def __init__(self,name,grade):\n",
        "    super().__init__(name)\n",
        "    self.grade=grade\n",
        "\n",
        "  def display_info(self):\n",
        "    super().display_info()\n",
        "    print(f\"Grade is : {self.grade}\")\n"
      ],
      "metadata": {
        "id": "G2Cmk0y1-fQt"
      },
      "execution_count": null,
      "outputs": []
    },
    {
      "cell_type": "code",
      "source": [
        "stud = Student(\"Aish\",\"A+\")\n",
        "stud.display_info()"
      ],
      "metadata": {
        "colab": {
          "base_uri": "https://localhost:8080/"
        },
        "id": "Kr22bNbL-g6J",
        "outputId": "cc39e052-dba3-451f-c18a-1eb5cd200726"
      },
      "execution_count": null,
      "outputs": [
        {
          "output_type": "stream",
          "name": "stdout",
          "text": [
            "Name is : Aish\n",
            "Grade is : A+\n"
          ]
        }
      ]
    },
    {
      "cell_type": "code",
      "source": [
        "#Example of Multiple inheritance\n",
        "\n",
        "class FrstName:\n",
        "  #def __init__(self,fnm):\n",
        "  #  self.fnm=fnm\n",
        "\n",
        "  def shownm(self):\n",
        "\n",
        "    print(f\"My First Name is Aishwarya \")\n"
      ],
      "metadata": {
        "id": "nuPPLq21-v2U"
      },
      "execution_count": null,
      "outputs": []
    },
    {
      "cell_type": "code",
      "source": [
        "class LastName:\n",
        "  #def __init__(self,lanm):\n",
        "  #  self.lanm=lanm\n",
        "\n",
        "  def shownlnm(self):\n",
        "\n",
        "\n",
        "    print(f\"My Last Name is Puri \")\n"
      ],
      "metadata": {
        "id": "7WZXLBHi_dDS"
      },
      "execution_count": null,
      "outputs": []
    },
    {
      "cell_type": "code",
      "source": [
        "class FullName(FrstName,LastName):\n",
        "\n",
        "  def showmnm(self):\n",
        "\n",
        "    print(f\"My Middle Name is Vijay \")\n"
      ],
      "metadata": {
        "id": "qc0el0f0_3J7"
      },
      "execution_count": null,
      "outputs": []
    },
    {
      "cell_type": "code",
      "source": [
        "per1 = FullName()\n",
        "per1.shownm()\n",
        "per1.showmnm()\n",
        "per1.shownlnm()\n"
      ],
      "metadata": {
        "colab": {
          "base_uri": "https://localhost:8080/"
        },
        "id": "wR7OOjJaBhpH",
        "outputId": "6168988f-699c-4dd8-8a7e-c12a3393b1d3"
      },
      "execution_count": null,
      "outputs": [
        {
          "output_type": "stream",
          "name": "stdout",
          "text": [
            "My First Name is Aishwarya \n",
            "My Middle Name is Vijay \n",
            "My Last Name is Puri \n"
          ]
        }
      ]
    },
    {
      "cell_type": "markdown",
      "source": [
        "3. Explain the terms \"base class\" and \"derived class\" in the context of inheritance.\n",
        "\n",
        "Ans- Inheritance is an important aspect of the object-oriented programming. Inheritance provides code reusability to the program because we can use an existing class to create a new class.The new class that is created is known as  Derived class and the existing class from which the derived class is derived is known as Base class.\n",
        "\n",
        "In inheritance, the derived class acquires the properties and can access all the data members and functions defined in the base class. A derived class can also provide its specific implementation to the functions of the base class.\n",
        "\n",
        "In python, a derived class can inherit base class by just mentioning the base class name in the bracket after the derived class name. Consider the following syntax to inherit a base class into the derived class.\n",
        "\n",
        "class derived-class(base class):  \n",
        "     data members and functions of base_class\n",
        "     data members and functions of derived_class"
      ],
      "metadata": {
        "id": "NA7aegs_7tkH"
      }
    },
    {
      "cell_type": "markdown",
      "source": [
        "4. What is the significance of the \"protected\" access modifier in inheritance? How does it differ from \"private\" and \"public\" modifiers?\n",
        "\n",
        "Ans - The members of a class that are declared protected are only accessible to a class derived from it. Data members of a class are declared protected by adding a single underscore (_) symbol before the data member of that class.\n",
        "Protected access modifiers allow the data members to be accessed by class, package, subclass (same package), subclass (different package).\n",
        "\n",
        "The difference between public and protected is that public can be accessed from outside class but protected cannot be accessed from outside class.\n",
        "\n",
        "The members of a class that are declared private are accessible within the class only, private access modifier is the most secure access modifier. Data members of a class are declared private by adding a double underscore (__) symbol before the data member of that class.\n",
        "\n",
        "By default the data members  and methods are public which means they can be accessed from anywhere outside or inside the class. No public keyword is required to make the class or methods and properties public.\n",
        "\n",
        "Example of Protected access modifier -\n",
        "\n",
        "In the below program, _name, _roll, and _branch are protected data members and _display() method is a protected method of the base class Student. The displayDetails() method is a public method of the class Geek which is derived from the Student class, the displayDetails() method in Geek class accesses the protected data members of the Student class."
      ],
      "metadata": {
        "id": "U9d6uXIfv51V"
      }
    },
    {
      "cell_type": "code",
      "source": [
        "class Student:\n",
        "     # protected data members\n",
        "     _name = None\n",
        "     _roll = None\n",
        "     _branch = None\n",
        "\n",
        "     def __init__(self, name, roll, branch):\n",
        "          self._name = name\n",
        "          self._roll = roll\n",
        "          self._branch = branch\n",
        "\n",
        "     # protected member function\n",
        "     def _display(self):\n",
        "          # accessing protected data members\n",
        "          print(\"Roll: \", self._roll)\n",
        "          print(\"Branch: \", self._branch)\n"
      ],
      "metadata": {
        "id": "F0kds3PGVnSz"
      },
      "execution_count": null,
      "outputs": []
    },
    {
      "cell_type": "code",
      "source": [
        "class Geek(Student):\n",
        "\n",
        "       def __init__(self, name, roll, branch):\n",
        "                super().__init__( name, roll, branch)\n",
        "\n",
        "       def displayDetails(self):\n",
        "                # accessing protected data members of super class\n",
        "                print(\"Name: \", self._name)\n",
        "\n",
        "                 # accessing protected member functions of super class\n",
        "                self._display()"
      ],
      "metadata": {
        "id": "DNC0TEOOV7Wc"
      },
      "execution_count": null,
      "outputs": []
    },
    {
      "cell_type": "code",
      "source": [
        "stud = Geek('aish', 1, 'IT')\n",
        "\n",
        "# calling public member functions of the class\n",
        "stud.displayDetails()"
      ],
      "metadata": {
        "colab": {
          "base_uri": "https://localhost:8080/"
        },
        "id": "b5j4_VH0WMJN",
        "outputId": "4898b7de-0d37-403a-de90-dfbe6066c5d8"
      },
      "execution_count": null,
      "outputs": [
        {
          "output_type": "stream",
          "name": "stdout",
          "text": [
            "Name:  aish\n",
            "Roll:  1\n",
            "Branch:  IT\n"
          ]
        }
      ]
    },
    {
      "cell_type": "markdown",
      "source": [
        "5. What is the purpose of the \"super\" keyword in inheritance? Provide an example.\n",
        "\n",
        "Ans -  The super() function is used to give access to methods and properties of a parent or sibling class. The super() function returns an object that represents the parent class.\n",
        "\n",
        "To make inheritance more flexible, manageable and extensible Python provides a built-in function called as super(). The super() function in Python allows you to access methods in a parent class. Using super() to call previously built methods saves you from rebuilding and allowing you to swap out super-classes with minimal code modifications.\n",
        "\n",
        "The super() function has two primary applications:\n",
        "\n",
        "To avoid explicitly using the super (parent) class.\n",
        "\n",
        "To allow working with multiple inheritances.\n"
      ],
      "metadata": {
        "id": "wwsJXyJLq0sK"
      }
    },
    {
      "cell_type": "code",
      "source": [
        "class Person:\n",
        "    def __init__(self, first_name, last_name):\n",
        "        self.first_name = first_name\n",
        "        self.last_name = last_name\n",
        "    def fullname(self):\n",
        "        print(self.first_name, self.last_name)\n"
      ],
      "metadata": {
        "id": "v4hsw8JZtJLr"
      },
      "execution_count": null,
      "outputs": []
    },
    {
      "cell_type": "code",
      "source": [
        "class Student(Person):\n",
        "    def __init__(self, first_name, last_name, grade):\n",
        "        self.grade = grade\n",
        "        super().__init__(first_name, last_name)\n",
        "    def display(self):\n",
        "        super().fullname()\n",
        "        print(f\"Grade :{self.grade}\")"
      ],
      "metadata": {
        "id": "eHLf1Wf8tQ3W"
      },
      "execution_count": null,
      "outputs": []
    },
    {
      "cell_type": "code",
      "source": [
        "stud=Student(\"Aish\",\"Puri\",\"A+\")\n",
        "stud.display()"
      ],
      "metadata": {
        "colab": {
          "base_uri": "https://localhost:8080/"
        },
        "id": "iVNrZhEiWcI6",
        "outputId": "48842f90-feff-4caf-aac5-d23cc386200a"
      },
      "execution_count": null,
      "outputs": [
        {
          "output_type": "stream",
          "name": "stdout",
          "text": [
            "Aish Puri\n",
            "Grade :A+\n"
          ]
        }
      ]
    },
    {
      "cell_type": "markdown",
      "source": [
        "6. Create a base class called \"Vehicle\" with attributes like \"make\", \"model\", and \"year\".\n",
        "Then, create a derived class called \"Car\" that inherits from \"Vehicle\" and adds an\n",
        "attribute called \"fuel_type\". Implement appropriate methods in both classes."
      ],
      "metadata": {
        "id": "dAwnfA4IcJbh"
      }
    },
    {
      "cell_type": "code",
      "source": [
        "class Vehical:\n",
        "  def __init__(self,make,model,year):\n",
        "    self.make = make\n",
        "    self.model = model\n",
        "    self.year = year\n",
        "\n",
        "  def display_info(self):\n",
        "    print(f\"Making of this car is by {self.make} and the model name is {self.model} and year of developmet is {self.year}.\")"
      ],
      "metadata": {
        "id": "MCdgPJJVuXQH"
      },
      "execution_count": null,
      "outputs": []
    },
    {
      "cell_type": "code",
      "source": [
        "class Car(Vehical):\n",
        "  def __init__(self,make,model,year,fuel_type):\n",
        "    self.fuel_type = fuel_type\n",
        "    super().__init__(make,model,year)\n",
        "\n",
        "  def detailed_info(self):\n",
        "    super().display_info()\n",
        "    print(f\"The fuel type of above mentioned car is {self.fuel_type}.\")"
      ],
      "metadata": {
        "id": "tZWm6UkZiSxA"
      },
      "execution_count": null,
      "outputs": []
    },
    {
      "cell_type": "code",
      "source": [
        "car1 = Car(\"Honda\",\"Jazz\",2015,\"Diesel\")\n",
        "car1.detailed_info()"
      ],
      "metadata": {
        "colab": {
          "base_uri": "https://localhost:8080/"
        },
        "id": "8wQmNBi3jvFi",
        "outputId": "bae00405-48ac-42f0-ad5f-80a31000b7c3"
      },
      "execution_count": null,
      "outputs": [
        {
          "output_type": "stream",
          "name": "stdout",
          "text": [
            "Making of this car is by Honda and the model name is Jazz and year of developmet is 2015.\n",
            "The fuel type of above mentioned car is Diesel.\n"
          ]
        }
      ]
    },
    {
      "cell_type": "markdown",
      "source": [
        "7. Create a base class called \"Employee\" with attributes like \"name\" and \"salary.\"\n",
        "Derive two classes, \"Manager\" and \"Developer,\" from \"Employee.\" Add an additional\n",
        "attribute called \"department\" for the \"Manager\" class and \"programming_language\"\n",
        "for the \"Developer\" class."
      ],
      "metadata": {
        "id": "LOLwUrsWmEpG"
      }
    },
    {
      "cell_type": "code",
      "source": [
        "class Employee:\n",
        "  def __init__(self,name ,salary):\n",
        "    self.name = name\n",
        "    self.salary = salary\n",
        "\n",
        "  def info(self):\n",
        "    print(f\"The name of employee is {self.name} and salary is {self.salary}\")"
      ],
      "metadata": {
        "id": "cFQDZYSElfMG"
      },
      "execution_count": null,
      "outputs": []
    },
    {
      "cell_type": "code",
      "source": [
        "class Manager(Employee):\n",
        "  def __init__(self, name, salary,dept):\n",
        "     super().__init__(name, salary)\n",
        "     self.dept = dept\n",
        "\n",
        "  def manger_info(self):\n",
        "    super().info()\n",
        "    print(f\"Department of the manager {self.name} is {self.dept}\")"
      ],
      "metadata": {
        "id": "IgV8XIh8nB3G"
      },
      "execution_count": null,
      "outputs": []
    },
    {
      "cell_type": "code",
      "source": [
        "class Developer(Employee):\n",
        "  def __init__(self,prog_lang):\n",
        "    self.prog_lang = prog_lang\n",
        "\n",
        "  def devloping_info(self):\n",
        "    print(f\"The programming language used is {self.prog_lang}\")"
      ],
      "metadata": {
        "id": "F6_j2jdeo16M"
      },
      "execution_count": null,
      "outputs": []
    },
    {
      "cell_type": "code",
      "source": [
        "manag1 = Manager(\"Aishwarya Puri\",50000,\"Development\")\n",
        "manag1.manger_info()\n",
        "\n",
        "dev1 = Developer(\"Python\")\n",
        "dev1.devloping_info()"
      ],
      "metadata": {
        "colab": {
          "base_uri": "https://localhost:8080/"
        },
        "id": "jswyZ3KUp5D_",
        "outputId": "30f28175-4823-4c6b-edeb-3d61da9bf105"
      },
      "execution_count": null,
      "outputs": [
        {
          "output_type": "stream",
          "name": "stdout",
          "text": [
            "The name of employee is Aishwarya Puri and salary is 50000\n",
            "Department of the manager Aishwarya Puri is Development\n",
            "The programming language used is Python\n"
          ]
        }
      ]
    },
    {
      "cell_type": "markdown",
      "source": [
        "8. Design a base class called \"Shape\" with attributes like \"colour\" and \"border_width.\"\n",
        "Create derived classes, \"Rectangle\" and \"Circle,\" that inherit from \"Shape\" and add\n",
        "specific attributes like \"length\" and \"width\" for the \"Rectangle\" class and \"radius\" for\n",
        "the \"Circle\" class."
      ],
      "metadata": {
        "id": "Cxsn1hq_KbO4"
      }
    },
    {
      "cell_type": "code",
      "source": [
        "class Shape:\n",
        "  def __init__(self,color,border_width):\n",
        "    self.color = color\n",
        "    self.border_width = border_width\n",
        "\n",
        "  def show(self):\n",
        "    print(f\"Colour of the shape is {self.color}\")\n",
        "    print(f\"Border width of the shape is {self.border_width}\")\n"
      ],
      "metadata": {
        "id": "jXWcrzUiqb7b"
      },
      "execution_count": null,
      "outputs": []
    },
    {
      "cell_type": "code",
      "source": [
        "class Rectangle(Shape):\n",
        "  def __init__(self,length,width,color,border_width):\n",
        "    self.length = length\n",
        "    self.width = width\n",
        "    super().__init__(color,border_width)\n",
        "\n",
        "  def rect_property(self):\n",
        "    print(f\"The length and width of Rectangle is {self.length} and {self.width}\")\n"
      ],
      "metadata": {
        "id": "OFlVkRV3jJAu"
      },
      "execution_count": null,
      "outputs": []
    },
    {
      "cell_type": "code",
      "source": [
        "class Circle(Shape):\n",
        "  def __init__(self,radius,color,border_width):\n",
        "    self.radius = radius\n",
        "    super().__init__(color,border_width)\n",
        "\n",
        "  def circle_property(self):\n",
        "    print(f\"The radius of the circle is {self.radius}\")\n"
      ],
      "metadata": {
        "id": "JHBfe6t-jqc8"
      },
      "execution_count": null,
      "outputs": []
    },
    {
      "cell_type": "code",
      "source": [
        "rect = Rectangle(\"4m\",\"2m\",\"Red\",\"1m\")\n",
        "cir = Circle(2.5,\"Blue\",\"1m\")\n",
        "rect.show()\n",
        "rect.rect_property()\n",
        "cir.circle_property()\n"
      ],
      "metadata": {
        "colab": {
          "base_uri": "https://localhost:8080/"
        },
        "id": "cIg-MintnYSC",
        "outputId": "4c5db8a6-c575-4c12-ffe0-a902fcda7681"
      },
      "execution_count": null,
      "outputs": [
        {
          "output_type": "stream",
          "name": "stdout",
          "text": [
            "Colour of the shape is Red\n",
            "Border width of the shape is 1m\n",
            "The length and width of Rectangle is 4m and 2m\n",
            "The radius of the circle is 2.5\n"
          ]
        }
      ]
    },
    {
      "cell_type": "markdown",
      "source": [
        "9. Create a base class called \"Device\" with attributes like \"brand\" and \"model.\" Derive\n",
        "two classes, \"Phone\" and \"Tablet,\" from \"Device.\" Add specific attributes like\n",
        "\"screen_size\" for the \"Phone\" class and \"battery_capacity\" for the \"Tablet\" class."
      ],
      "metadata": {
        "id": "PYhgkvb6rj7I"
      }
    },
    {
      "cell_type": "code",
      "source": [
        "class Device:\n",
        "  def __init__(self,brand,model):\n",
        "    self.brand = brand\n",
        "    self.model = model\n",
        "\n",
        "  def show_main_info(self):\n",
        "    print(f\"Brand name : {self.brand}\")\n",
        "    print(f\"Model name : {self.model}\")"
      ],
      "metadata": {
        "id": "utj1rw8Snpw1"
      },
      "execution_count": null,
      "outputs": []
    },
    {
      "cell_type": "code",
      "source": [
        "class Phone(Device):\n",
        "  def __init__(self,screen_size,brand,model):\n",
        "    self.screen_size = screen_size\n",
        "    super().__init__(brand,model)\n",
        "\n",
        "  def mbl_info(self):\n",
        "    print(f\"Screen size of this phone is {self.screen_size}\")\n",
        "\n"
      ],
      "metadata": {
        "id": "opw65mFWotES"
      },
      "execution_count": null,
      "outputs": []
    },
    {
      "cell_type": "code",
      "source": [
        "class Tablet(Device):\n",
        "  def __init__(self,battery_capacity,brand,model):\n",
        "    self.battery_capacity = battery_capacity\n",
        "    super().__init__(brand,model)\n",
        "\n",
        "  def tab_info(self):\n",
        "    print(f\"Battery capacity of this tablet is {self.battery_capacity}\")"
      ],
      "metadata": {
        "id": "j_abVYJrkqz2"
      },
      "execution_count": null,
      "outputs": []
    },
    {
      "cell_type": "code",
      "source": [
        "mbl = Phone(\"6.44 inch\",\"Vivo\",\"V23\")\n",
        "mbl.show_main_info()\n",
        "mbl.mbl_info()"
      ],
      "metadata": {
        "colab": {
          "base_uri": "https://localhost:8080/"
        },
        "id": "tmRBME9Lm_Ai",
        "outputId": "267220ab-f99a-4c7f-eeb6-7aec5e1b9755"
      },
      "execution_count": null,
      "outputs": [
        {
          "output_type": "stream",
          "name": "stdout",
          "text": [
            "Brand name : Vivo\n",
            "Model name : V23\n",
            "Screen size of this phone is 6.44 inch\n"
          ]
        }
      ]
    },
    {
      "cell_type": "code",
      "source": [
        "tab = Tablet(\"8.686mAH\",\"iPad\",\"A2270\")\n",
        "tab.show_main_info()\n",
        "tab.tab_info()"
      ],
      "metadata": {
        "colab": {
          "base_uri": "https://localhost:8080/"
        },
        "id": "bVQvOaPZno7G",
        "outputId": "1547e719-3018-4f2b-95d4-84e626bd6b8a"
      },
      "execution_count": null,
      "outputs": [
        {
          "output_type": "stream",
          "name": "stdout",
          "text": [
            "Brand name : iPad\n",
            "Model name : A2270\n",
            "Battery capacity of this tablet is 8.686mAH\n"
          ]
        }
      ]
    },
    {
      "cell_type": "markdown",
      "source": [
        "10. Create a base class called \"BankAccount\" with attributes like \"account_number\" and\n",
        "\"balance.\" Derive two classes, \"SavingsAccount\" and \"CheckingAccount,\" from\n",
        "\"BankAccount.\" Add specific methods like \"calculate_interest\" for the\n",
        "\"SavingsAccount\" class and \"deduct_fees\" for the \"CheckingAccount\" class."
      ],
      "metadata": {
        "id": "Z8YBgsn1o5FB"
      }
    },
    {
      "cell_type": "code",
      "source": [
        "class Bank_Account:\n",
        "  def __init__(self,acnt_no,balance):\n",
        "    self.acnt_no = acnt_no\n",
        "    self.balance =balance\n",
        "\n",
        "  def cust_info(self):\n",
        "     print(f\"Your Account number is: {self.acnt_no}\")\n",
        "     print(f\"Your remaining Balance is: {self.balance}\")"
      ],
      "metadata": {
        "id": "9HG4kA1sos7L"
      },
      "execution_count": 25,
      "outputs": []
    },
    {
      "cell_type": "code",
      "source": [
        "class Saving_Account(Bank_Account):\n",
        "  def __init__(self,acnt_no,balance):\n",
        "    super().__init__(acnt_no,balance)\n",
        "\n",
        "  def calculate_interest(self):\n",
        "    self.cust_info()\n",
        "    i  = int(input(\"Enter the interest rate: \"))\n",
        "    t  = int(input(\"Enter the time period: \"))\n",
        "\n",
        "    SI=  (self.balance*i*t)/100\n",
        "\n",
        "    print(\"The interest is : \",SI)\n"
      ],
      "metadata": {
        "id": "KoolUiP8qpDA"
      },
      "execution_count": 26,
      "outputs": []
    },
    {
      "cell_type": "code",
      "source": [
        "class Checking_Account(Bank_Account):\n",
        "  def __init__(self,acnt_no,balance):\n",
        "    super().__init__(acnt_no,balance)\n",
        "\n",
        "  def deduct_fees(self):\n",
        "    amount = int(input(\"Enter the amount to be withdraw : \"))\n",
        "    if self.balance >= amount:\n",
        "      print(\"Your withdrawal amount is :\",amount)\n",
        "    else:\n",
        "      print(\"Insufficient balance\")\n",
        ""
      ],
      "metadata": {
        "id": "h8wajrIeqr3R"
      },
      "execution_count": 28,
      "outputs": []
    },
    {
      "cell_type": "code",
      "source": [
        "saving = Saving_Account(12345678913,10000)\n",
        "saving.calculate_interest()"
      ],
      "metadata": {
        "colab": {
          "base_uri": "https://localhost:8080/"
        },
        "id": "e-WAD0IARLtx",
        "outputId": "ed502f29-8262-4ddd-b144-56e3a0c461ff"
      },
      "execution_count": 31,
      "outputs": [
        {
          "output_type": "stream",
          "name": "stdout",
          "text": [
            "Your Account number is: 12345678913\n",
            "Your remaining Balance is: 10000\n",
            "Enter the interest rate: 4\n",
            "Enter the time period: 1\n",
            "The interest is :  400.0\n"
          ]
        }
      ]
    },
    {
      "cell_type": "code",
      "source": [
        "deduct = Checking_Account(12345678912,5000)\n",
        "deduct.cust_info()\n",
        "deduct.deduct_fees()"
      ],
      "metadata": {
        "colab": {
          "base_uri": "https://localhost:8080/"
        },
        "id": "vZcuEBhPLaOe",
        "outputId": "0cde697f-b766-473d-f543-d3afba00e861"
      },
      "execution_count": 29,
      "outputs": [
        {
          "output_type": "stream",
          "name": "stdout",
          "text": [
            "Your Account number is: 12345678912\n",
            "Your remaining Balance is: 5000\n",
            "Enter the amount to be withdraw : 3000\n",
            "Your withdrawal amount is : 3000\n"
          ]
        }
      ]
    },
    {
      "cell_type": "code",
      "source": [],
      "metadata": {
        "id": "AErKo00GQrFW"
      },
      "execution_count": 22,
      "outputs": []
    }
  ]
}