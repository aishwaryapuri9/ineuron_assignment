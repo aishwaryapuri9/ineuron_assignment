{
  "nbformat": 4,
  "nbformat_minor": 0,
  "metadata": {
    "colab": {
      "provenance": [],
      "authorship_tag": "ABX9TyOCSBSeQ34xZLP353z/nWXO",
      "include_colab_link": true
    },
    "kernelspec": {
      "name": "python3",
      "display_name": "Python 3"
    },
    "language_info": {
      "name": "python"
    }
  },
  "cells": [
    {
      "cell_type": "markdown",
      "metadata": {
        "id": "view-in-github",
        "colab_type": "text"
      },
      "source": [
        "<a href=\"https://colab.research.google.com/github/aishwaryapuri9/ineuron_assignment/blob/main/01_July_OOPs.ipynb\" target=\"_parent\"><img src=\"https://colab.research.google.com/assets/colab-badge.svg\" alt=\"Open In Colab\"/></a>"
      ]
    },
    {
      "cell_type": "markdown",
      "source": [
        "1. What is the primary goal of Object-Oriented Programming (OOP)?\n",
        "\n",
        "Ans - Object oriented programming is programming that uses objects and classes in programming. It implements real world entities like inheritance,polymorphisms,encapsulation,data abstraction in the programming. The main concept os oops is to bind the data and the functions that work togather as a single unit so that no other part of the code can access this data.In oops object is defined with its own properties.The entire software program runs by having multiple objects interact with objects to create large programs.\n",
        "     The primary goal of OOPs is -:\n",
        "  - Adaptability -It means the software may run on different generation and grows over a long lifetime.\n",
        "  - To reuse the code in which classes  uses the properties of the base class.\n",
        "  - To hold entire data into a single object such that it would be easy to pass this to other methods and objects.\n",
        "  - Multiprocessing is also in oops.\n",
        "  - Binding of data to avoid data loss.\n",
        "  - Robustness - It means complex program should operate correctly."
      ],
      "metadata": {
        "id": "EOf_gKri7saH"
      }
    },
    {
      "cell_type": "markdown",
      "source": [
        "2. What is an object in Python?\n",
        "\n",
        "Ans - An object is simply a collection of data and methods.Objects is a instance of class.Objects are variables that contain data and function that can be used to manipulate the data.The objects data can varry in types depending on how its been defined. Objects has its own set of rules and behaviors.\n",
        "Lets consider  an example, To track customer information you can create objects for each customer like name, address and mobile no.then you can use class to put all those objects together and create a Customer class."
      ],
      "metadata": {
        "id": "XZmV8HmrGoZ4"
      }
    },
    {
      "cell_type": "code",
      "source": [
        "class Customer:\n",
        "   #Constructor\n",
        "    def __init__(self,cname,caddress,cmobile_no):\n",
        "\n",
        "    #instance variable\n",
        "      self.cname = cname\n",
        "      self.caddress = caddress\n",
        "      self.cmobile_no = cmobile_no\n",
        "\n",
        "    #objects of class\n"
      ],
      "metadata": {
        "id": "dJwlNkLk8YVT"
      },
      "execution_count": null,
      "outputs": []
    },
    {
      "cell_type": "code",
      "source": [
        "cust1 = Customer(\"alice\",\"Mumbai\",123456789)\n",
        "print(cust1.cname)\n",
        "print(cust1.caddress)"
      ],
      "metadata": {
        "colab": {
          "base_uri": "https://localhost:8080/"
        },
        "id": "lAp1hlZ38YSX",
        "outputId": "54285de0-e1c0-4d74-b69f-434433731e6f"
      },
      "execution_count": null,
      "outputs": [
        {
          "output_type": "stream",
          "name": "stdout",
          "text": [
            "alice\n",
            "Mumbai\n"
          ]
        }
      ]
    },
    {
      "cell_type": "markdown",
      "source": [
        "3. What is a class in Python?\n",
        "\n",
        "Ans - Python is object oriented progrraming language.This means that almost all the code is implemented using a special construct called classes.This is done using the keyword 'class'.Class is a user defined blueprint from which objects are created.Class provide a binding of data and methods together.\n",
        "Syntax : class defination\n",
        "\n",
        "  class Classname:\n",
        "\n",
        "The class creates a user-defined data structure,which holds its own data members and member functions which can be accessed and used by creating an instance of that class.\n",
        "Ex. creating a simple empty class with no functionality"
      ],
      "metadata": {
        "id": "BP6yvCurDk3D"
      }
    },
    {
      "cell_type": "code",
      "source": [
        "class Car:\n",
        "  pass"
      ],
      "metadata": {
        "id": "iJFdeHy7GYHr"
      },
      "execution_count": null,
      "outputs": []
    },
    {
      "cell_type": "markdown",
      "source": [
        "4. What are attributes and methods in a class?\n",
        "\n",
        "Ans - Classes allow for the creation of objects that can have both attributes and methods.Attributes are defined within the class and can be accessed and modified by both the class and its objects.Class attributes are defined outside of any methods including the init method and assigned a value directly.\n",
        "Ex.\n",
        "class MyClass:\n",
        "       class_attribute = \"its attribute value\"\n",
        "\n",
        "    print(MyClass.class_attribute)\n",
        "\n",
        "It is also possible to define attribute within the class constructor(__init__)method.\n",
        "Ex. class MyClass:\n",
        "       def __init__(self):\n",
        "          self.class_attribute = \"its attribute value\"\n",
        "\n",
        "Methods are fuction that are defined inside the class body to perform some operation.A method is an attribute but not all attributes are method.Methods are function that belongs to object.Methods define action/operation.\n",
        "Example of methods is as follows:       "
      ],
      "metadata": {
        "id": "vHl_3L0HHDjr"
      }
    },
    {
      "cell_type": "code",
      "source": [
        "class MyClass:\n",
        "    class_variable = 10\n",
        "\n",
        "    def __init__(self, instance_variable):\n",
        "        self.instance_variable = instance_variable\n",
        "\n",
        "    @staticmethod\n",
        "    def static_method():\n",
        "        print(\"This is a static method.\")\n",
        "\n",
        "# Calling the static method\n",
        "MyClass.static_method()"
      ],
      "metadata": {
        "colab": {
          "base_uri": "https://localhost:8080/"
        },
        "id": "gn32-VRjMgyQ",
        "outputId": "89411d36-eb90-4e13-e86d-ffb62be0eebd"
      },
      "execution_count": null,
      "outputs": [
        {
          "output_type": "stream",
          "name": "stdout",
          "text": [
            "This is a static method.\n"
          ]
        }
      ]
    },
    {
      "cell_type": "markdown",
      "source": [
        "5. What is the difference between class variables and instance variables in Python?\n",
        "\n",
        "Ans -\n",
        "class vvariable - It is a static variable that can be declared anywhere at class level with static. These variable can have only one value.These variable can be shared between class and its subclasses.It can be accessed by calling with the class name.These variable are declared using the keyword static.It is a variable that defines a specific attribute or property for a class.It has only one copy of the class variable so it is shared among different objects of the class.\n",
        "\n",
        "Example of class variable is ,"
      ],
      "metadata": {
        "id": "rdxF5h67Mt1X"
      }
    },
    {
      "cell_type": "code",
      "source": [
        "class Car :\n",
        "  brand = \"Honda\"  #Declaration of class variabe\n",
        "\n",
        "car1 = Car()\n",
        "print(\"Brand of the car is \",car1.brand)"
      ],
      "metadata": {
        "colab": {
          "base_uri": "https://localhost:8080/"
        },
        "id": "6zuWi3h5_-UV",
        "outputId": "4df96ed9-666d-490d-acf3-be56712afc1f"
      },
      "execution_count": null,
      "outputs": [
        {
          "output_type": "stream",
          "name": "stdout",
          "text": [
            "Brand of the car is  Honda\n"
          ]
        }
      ]
    },
    {
      "cell_type": "markdown",
      "source": [
        "Instance variable - It is a class variable without a static modifier and it is shared by all class instances.These variables can have different values.These variables cannot be shared between classes.They only belong to one specific class.It can be accessed by calling variable names inside the class.These variable are declared without using the static keyword.It is generally created when an instatnce of the class is created.It has a many copies so every object has its own personal copy of the instance variable.\n",
        "\n",
        "Example of Instance variable is ,"
      ],
      "metadata": {
        "id": "6BJOiwVUA8JR"
      }
    },
    {
      "cell_type": "code",
      "source": [
        "class Bank :\n",
        "\n",
        "   def __init__(self,acnt_no,branch,acnt_type):\n",
        "     self.acnt_no = acnt_no\n",
        "     self.branch = branch\n",
        "     self.acnt_type = acnt_type\n",
        "\n",
        "customer = Bank(12345678,\"AMT\",\"Saving\")\n",
        "name = input(\"Enter the customer name : \")\n",
        "print(\"The account No of \" +name+ \" is :\",customer.acnt_no)\n",
        "print(\"Branch name is :\",customer.branch)\n",
        "print(\"The account Type is :\",customer.acnt_type)\n"
      ],
      "metadata": {
        "id": "Wjyty7YSANj1",
        "colab": {
          "base_uri": "https://localhost:8080/"
        },
        "outputId": "617b1e1f-7913-4e8b-f5fa-491def6ca15c"
      },
      "execution_count": null,
      "outputs": [
        {
          "output_type": "stream",
          "name": "stdout",
          "text": [
            "Enter the customer name : Aish Puri\n",
            "The account No of Aish Puri is : 12345678\n",
            "Branch name is : AMT\n",
            "The account Type is : Saving\n"
          ]
        }
      ]
    },
    {
      "cell_type": "markdown",
      "source": [
        "6. What is the purpose of the self parameter in Python class methods?\n",
        "\n",
        "Ans - In python, whenever we define methods for a class, we use self as a first argument to be passed in constructor and instance method.The self is used to represent an instance of the given class.By using the self we can access the attribute and methods of the class in python. It binds the attribute with the given arguments.Self is always pointing to current object.User can use another argument name in place of self."
      ],
      "metadata": {
        "id": "31fbl9RYNZBU"
      }
    },
    {
      "cell_type": "code",
      "source": [
        "class Person:\n",
        "  def __init__(self,name,age):\n",
        "    self.name = name\n",
        "    self.age = age\n",
        "\n",
        "  def display_info(self):\n",
        "    print(\"My name is\",self.name)\n",
        "    print(\"My age is\",self.age)\n",
        "\n",
        "person1 = Person(\"Aish\",27)\n",
        "person1.display_info()"
      ],
      "metadata": {
        "id": "-_u94_eLI8pE",
        "colab": {
          "base_uri": "https://localhost:8080/"
        },
        "outputId": "25ea75fa-2297-4a5e-d2ec-3bbee23ad2fd"
      },
      "execution_count": null,
      "outputs": [
        {
          "output_type": "stream",
          "name": "stdout",
          "text": [
            "My name is Aish\n",
            "My age is 27\n"
          ]
        }
      ]
    },
    {
      "cell_type": "markdown",
      "source": [
        "7. For a library management system, you have to design the \"Book\" class with OOP\n",
        "principles in mind. The “Book” class will have following attributes:\n",
        "a. title: Represents the title of the book.\n",
        "b. author: Represents the author(s) of the book.\n",
        "c. isbn: Represents the ISBN (International Standard Book Number) of the book.\n",
        "d. publication_year: Represents the year of publication of the book.\n",
        "e. available_copies: Represents the number of copies available for checkout.\n",
        "The class will also include the following methods:\n",
        "a. check_out(self): Decrements the available copies by one if there are copies\n",
        "available for checkout.\n",
        "b. return_book(self): Increments the available copies by one when a book is\n",
        "returned.\n",
        "c. display_book_info(self): Displays the information about the book, including its\n",
        "attributes and the number of available copies."
      ],
      "metadata": {
        "id": "_XAAx1vshApK"
      }
    },
    {
      "cell_type": "code",
      "source": [
        "class Book:\n",
        "  def __init__(self,title,author,isbn,pub_year,avail_copy):\n",
        "    self.title = title\n",
        "    self.author = author\n",
        "    self.isbn = isbn\n",
        "    self.pub_year = pub_year\n",
        "    self.avail_copy = avail_copy\n",
        "\n",
        "  def display_book_info(self):\n",
        "        print(\"Title of the book is: \",self.title)\n",
        "        print(\"Author of the book is: \",self.author)\n",
        "        print(\"ISBN no of the book is: \",self.isbn)\n",
        "        print(\"The year of the publication is: \",self.pub_year)\n",
        "        print(\"Available copies are: \",self.avail_copy)\n",
        "\n",
        "\n",
        "  def check_out(self):\n",
        "    if  self.avail_copy > 0 :\n",
        "      self.avail_copy = self.avail_copy - 1\n",
        "      print(\"After checkout, The available copies are\",self.avail_copy)\n",
        "    else :\n",
        "      print(\"No copies are available\")\n",
        "\n",
        "  def return_book(self,give):\n",
        "\n",
        "    if give == \"Return\":\n",
        "      self.avail_copy = self.avail_copy + 1\n",
        "      print(\"Total no of copy :\",self.avail_copy)\n",
        "\n",
        "\n",
        "\n",
        "book1 = Book(\"XYZ\",\"abc\",12345,\"Summer 2020\",10)\n",
        "book1.display_book_info()\n",
        "\n",
        "\n"
      ],
      "metadata": {
        "id": "LQXMD9VEggrd",
        "colab": {
          "base_uri": "https://localhost:8080/"
        },
        "outputId": "081da496-8843-4ed9-a789-a4fc4d28911a"
      },
      "execution_count": null,
      "outputs": [
        {
          "output_type": "stream",
          "name": "stdout",
          "text": [
            "Title of the book is:  XYZ\n",
            "Author of the book is:  abc\n",
            "ISBN no of the book is:  12345\n",
            "The year of the publication is:  Summer 2020\n",
            "Available copies are:  10\n"
          ]
        }
      ]
    },
    {
      "cell_type": "code",
      "source": [
        "book1.check_out()"
      ],
      "metadata": {
        "id": "-z6jJXEikOZ7",
        "colab": {
          "base_uri": "https://localhost:8080/"
        },
        "outputId": "4469ab18-0c69-4505-f8b5-372fd5f9c63c"
      },
      "execution_count": null,
      "outputs": [
        {
          "output_type": "stream",
          "name": "stdout",
          "text": [
            "After checkout, The available copies are 9\n"
          ]
        }
      ]
    },
    {
      "cell_type": "code",
      "source": [
        "book1.return_book(\"Return\")"
      ],
      "metadata": {
        "colab": {
          "base_uri": "https://localhost:8080/"
        },
        "id": "JbTCQ6GD4dU4",
        "outputId": "a4c125a1-55d4-48c7-c2a4-c180ba008707"
      },
      "execution_count": null,
      "outputs": [
        {
          "output_type": "stream",
          "name": "stdout",
          "text": [
            "Total no of copy : 10\n"
          ]
        }
      ]
    },
    {
      "cell_type": "markdown",
      "source": [
        "8. For a ticket booking system, you have to design the \"Ticket\" class with OOP\n",
        "principles in mind. The “Ticket” class should have the following attributes:\n",
        "a. ticket_id: Represents the unique identifier for the ticket.\n",
        "b. event_name: Represents the name of the event.\n",
        "c. event_date: Represents the date of the event.\n",
        "d. venue: Represents the venue of the event.\n",
        "e. seat_number: Represents the seat number associated with the ticket.\n",
        "f. price: Represents the price of the ticket.\n",
        "g. is_reserved: Represents the reservation status of the ticket.\n",
        "The class also includes the following methods:\n",
        "a. reserve_ticket(self): Marks the ticket as reserved if it is not already reserved.\n",
        "b. cancel_reservation(self): Cancels the reservation of the ticket if it is already\n",
        "reserved.\n",
        "c. display_ticket_info(self): Displays the information about the ticket, including its\n",
        "attributes and reservation status."
      ],
      "metadata": {
        "id": "mw6qt6ro46lX"
      }
    },
    {
      "cell_type": "code",
      "source": [
        "class Ticket:\n",
        "\n",
        "  def __init__(self,ticket_id,event_name,event_date,venue,seat_no,price,status):\n",
        "    self.ticket_id = ticket_id\n",
        "    self.event_name = event_name\n",
        "    self.event_date = event_date\n",
        "    self.venue = venue\n",
        "    self.seat_no = seat_no\n",
        "    self.price = price\n",
        "    self.status = status\n",
        "\n",
        "  def reserve_ticket(self):\n",
        "      if self.status != \"Reserved\":\n",
        "        print(\"This ticket is reserved\")\n",
        "      else:\n",
        "        print(\"Already Reserved\")\n",
        "\n",
        "  def cancel_reservation(self):\n",
        "    if self.status == \"Reserved\":\n",
        "      print(\"This ticket is already reserved so your registration is canceled\")\n",
        "    else:\n",
        "      print(\"Ticket is not reserved\")\n",
        "\n",
        "  def display_ticket_info(self):\n",
        "    print(\"The ticket ID is :\", self.ticket_id)\n",
        "    print(\"Name of event is :\", self.event_name)\n",
        "    print(\"Date of the event is :\", self.event_date)\n",
        "    print(\"Venue is :\", self.venue)\n",
        "    print(\"Seat number is :\", self.seat_no)\n",
        "    print(\"Price of the Ticket is :\", self.price)\n",
        "    print(\"The status of Reservation is :\", self.status )"
      ],
      "metadata": {
        "id": "erh0LIkC4jLh"
      },
      "execution_count": null,
      "outputs": []
    },
    {
      "cell_type": "code",
      "source": [
        "person1 = Ticket(12345,\"XYZ\",\"15th July 2023\",\"Sanskriti Bhawan\",12,450,\"Reserved\")"
      ],
      "metadata": {
        "id": "cL2os1eXRFar"
      },
      "execution_count": null,
      "outputs": []
    },
    {
      "cell_type": "code",
      "source": [
        "person1.display_ticket_info()"
      ],
      "metadata": {
        "colab": {
          "base_uri": "https://localhost:8080/"
        },
        "id": "DHAJbkcJSmvc",
        "outputId": "7887744f-aac5-4fc2-af81-6678c0ce5785"
      },
      "execution_count": null,
      "outputs": [
        {
          "output_type": "stream",
          "name": "stdout",
          "text": [
            "The ticket ID is : 12345\n",
            "Name of event is : XYZ\n",
            "Date of the event is : 15th July 2023\n",
            "Venue is : Sanskriti Bhawan\n",
            "Seat number is : 12\n",
            "Price of the Ticket is : 450\n",
            "The status of Reservation is : Reserved\n"
          ]
        }
      ]
    },
    {
      "cell_type": "code",
      "source": [
        "person1.reserve_ticket()"
      ],
      "metadata": {
        "colab": {
          "base_uri": "https://localhost:8080/"
        },
        "id": "-lDJrMJqSt7G",
        "outputId": "915a9463-8fb3-4a25-c702-8ede00c3572b"
      },
      "execution_count": null,
      "outputs": [
        {
          "output_type": "stream",
          "name": "stdout",
          "text": [
            "Already Reserved\n"
          ]
        }
      ]
    },
    {
      "cell_type": "code",
      "source": [
        "person1.cancel_reservation()"
      ],
      "metadata": {
        "colab": {
          "base_uri": "https://localhost:8080/"
        },
        "id": "ecGZTj9YS1SI",
        "outputId": "8c548dab-80d5-4cfe-e333-76fe50b6ae9c"
      },
      "execution_count": null,
      "outputs": [
        {
          "output_type": "stream",
          "name": "stdout",
          "text": [
            "This ticket is already reserved so your registration is canceled\n"
          ]
        }
      ]
    },
    {
      "cell_type": "markdown",
      "source": [
        "9. You are creating a shopping cart for an e-commerce website. Using OOP to model\n",
        "the \"ShoppingCart\" functionality the class should contain following attributes and\n",
        "methods:\n",
        "a. items: Represents the list of items in the shopping cart.\n",
        "The class also includes the following methods:\n",
        "\n",
        "a. add_item(self, item): Adds an item to the shopping cart by appending it to the\n",
        "list of items.\n",
        "b. remove_item(self, item): Removes an item from the shopping cart if it exists in\n",
        "the list.\n",
        "c. view_cart(self): Displays the items currently present in the shopping cart.\n",
        "d. clear_cart(self): Clears all items from the shopping cart by reassigning an\n",
        "empty list to the items attribute."
      ],
      "metadata": {
        "id": "06KYmc2DTQGJ"
      }
    },
    {
      "cell_type": "code",
      "source": [
        "class ShoppingCart:\n",
        "\n",
        "    def __init__(self,cust_name):\n",
        "      self.cust_name = cust_name\n",
        "      self.item_list = []\n",
        "\n",
        "    def add_item(self,item):\n",
        "      self.item_list.append(item)\n",
        "      print(f\"{item} is added to the list\")\n",
        "\n",
        "    def remove_item(self,item):\n",
        "      if item in self.item_list:\n",
        "        self.item_list.remove(item)\n",
        "        print(f\"{item} already exists in the list\")\n",
        "\n",
        "    def view_cart(self):\n",
        "      print(f\"The item list of {self.cust_name} is :\")\n",
        "      for item in self.item_list:\n",
        "       print(item)\n",
        "\n",
        "    def clear_cart(self):\n",
        "      self.item_list.clear()"
      ],
      "metadata": {
        "id": "iBDCrv2oTPOm"
      },
      "execution_count": null,
      "outputs": []
    },
    {
      "cell_type": "code",
      "source": [
        "person = ShoppingCart(\"Aishwarya Puri\")"
      ],
      "metadata": {
        "id": "6Dkz3wOPS554"
      },
      "execution_count": null,
      "outputs": []
    },
    {
      "cell_type": "code",
      "source": [
        "person.add_item(\"Cookies\")"
      ],
      "metadata": {
        "colab": {
          "base_uri": "https://localhost:8080/"
        },
        "id": "BJwdvkY9YC1w",
        "outputId": "4b93fae1-d159-43a8-bb30-3e40cde427d6"
      },
      "execution_count": null,
      "outputs": [
        {
          "output_type": "stream",
          "name": "stdout",
          "text": [
            "Cookies is added to the list\n"
          ]
        }
      ]
    },
    {
      "cell_type": "code",
      "source": [
        "person.add_item(\"Chocolate\")"
      ],
      "metadata": {
        "colab": {
          "base_uri": "https://localhost:8080/"
        },
        "id": "yeH7LUQHYNMw",
        "outputId": "ed1a21de-699d-444d-dd51-fa8cb5f83f7e"
      },
      "execution_count": null,
      "outputs": [
        {
          "output_type": "stream",
          "name": "stdout",
          "text": [
            "Chocolate is added to the list\n"
          ]
        }
      ]
    },
    {
      "cell_type": "code",
      "source": [
        "person.add_item(\"Soap\")"
      ],
      "metadata": {
        "colab": {
          "base_uri": "https://localhost:8080/"
        },
        "id": "JqlRx8vlYaSk",
        "outputId": "f7f67679-2cfd-44ae-b10e-b51d2b3c8b09"
      },
      "execution_count": null,
      "outputs": [
        {
          "output_type": "stream",
          "name": "stdout",
          "text": [
            "Soap is added to the list\n"
          ]
        }
      ]
    },
    {
      "cell_type": "code",
      "source": [
        "person.add_item(\"Lays\")\n"
      ],
      "metadata": {
        "colab": {
          "base_uri": "https://localhost:8080/"
        },
        "id": "OKjhjtpwYrWT",
        "outputId": "4181131f-5bf9-4ac9-a63c-65f0d9e02d3d"
      },
      "execution_count": null,
      "outputs": [
        {
          "output_type": "stream",
          "name": "stdout",
          "text": [
            "Lays is added to the list\n"
          ]
        }
      ]
    },
    {
      "cell_type": "code",
      "source": [
        "person.add_item(\"Oil\")"
      ],
      "metadata": {
        "colab": {
          "base_uri": "https://localhost:8080/"
        },
        "id": "WJOrc50PY1OC",
        "outputId": "d244e9f6-4ef2-4648-9fa9-db997b951c19"
      },
      "execution_count": null,
      "outputs": [
        {
          "output_type": "stream",
          "name": "stdout",
          "text": [
            "Oil is added to the list\n"
          ]
        }
      ]
    },
    {
      "cell_type": "code",
      "source": [
        "person.view_cart()"
      ],
      "metadata": {
        "colab": {
          "base_uri": "https://localhost:8080/"
        },
        "id": "efwsinL8Y5y3",
        "outputId": "faa46836-3e4c-4d0e-e0a8-39c14d0bf729"
      },
      "execution_count": null,
      "outputs": [
        {
          "output_type": "stream",
          "name": "stdout",
          "text": [
            "The item list of Aishwarya Puri is :\n",
            "Cookies\n",
            "Chocolate\n",
            "Soap\n",
            "Lays\n",
            "Oil\n"
          ]
        }
      ]
    },
    {
      "cell_type": "code",
      "source": [
        "person.add_item(\"Soap\")"
      ],
      "metadata": {
        "colab": {
          "base_uri": "https://localhost:8080/"
        },
        "id": "m9wiVZfrZAGL",
        "outputId": "856ba09a-6367-4639-f1bd-1b976cbe4e02"
      },
      "execution_count": null,
      "outputs": [
        {
          "output_type": "stream",
          "name": "stdout",
          "text": [
            "Soap is added to the list\n"
          ]
        }
      ]
    },
    {
      "cell_type": "code",
      "source": [
        "person.view_cart()"
      ],
      "metadata": {
        "colab": {
          "base_uri": "https://localhost:8080/"
        },
        "id": "nfgnQ2mdZXBa",
        "outputId": "b2287521-be90-4a56-872b-fb3a81d4afb3"
      },
      "execution_count": null,
      "outputs": [
        {
          "output_type": "stream",
          "name": "stdout",
          "text": [
            "The item list of Aishwarya Puri is :\n",
            "Cookies\n",
            "Chocolate\n",
            "Soap\n",
            "Lays\n",
            "Oil\n",
            "Soap\n"
          ]
        }
      ]
    },
    {
      "cell_type": "code",
      "source": [
        "person.remove_item(\"Soap\")"
      ],
      "metadata": {
        "colab": {
          "base_uri": "https://localhost:8080/"
        },
        "id": "6FQVxcC5Zb2s",
        "outputId": "5185c4b9-d748-40a1-fc7c-bc5954fa2603"
      },
      "execution_count": null,
      "outputs": [
        {
          "output_type": "stream",
          "name": "stdout",
          "text": [
            "Soap already exists in the list\n"
          ]
        }
      ]
    },
    {
      "cell_type": "code",
      "source": [
        "person.view_cart()"
      ],
      "metadata": {
        "colab": {
          "base_uri": "https://localhost:8080/"
        },
        "id": "xFA8UygSZife",
        "outputId": "25ac8a56-4730-44dd-c027-c75949187183"
      },
      "execution_count": null,
      "outputs": [
        {
          "output_type": "stream",
          "name": "stdout",
          "text": [
            "The item list of Aishwarya Puri is :\n",
            "Cookies\n",
            "Chocolate\n",
            "Lays\n",
            "Oil\n",
            "Soap\n"
          ]
        }
      ]
    },
    {
      "cell_type": "code",
      "source": [
        "person.clear_cart()"
      ],
      "metadata": {
        "id": "PKn6pvBzZrzx"
      },
      "execution_count": null,
      "outputs": []
    },
    {
      "cell_type": "code",
      "source": [
        "person.view_cart()"
      ],
      "metadata": {
        "colab": {
          "base_uri": "https://localhost:8080/"
        },
        "id": "aHKpuhbRZ2ND",
        "outputId": "383bd8d5-cfe1-44e7-c2fd-692f4669c4c8"
      },
      "execution_count": null,
      "outputs": [
        {
          "output_type": "stream",
          "name": "stdout",
          "text": [
            "The item list of Aishwarya Puri is :\n"
          ]
        }
      ]
    },
    {
      "cell_type": "markdown",
      "source": [
        "10. Imagine a school management system. You have to design the \"Student\" class using\n",
        "OOP concepts.The “Student” class has the following attributes:\n",
        "a. name: Represents the name of the student.\n",
        "b. age: Represents the age of the student.\n",
        "c. grade: Represents the grade or class of the student.\n",
        "d. student_id: Represents the unique identifier for the student.\n",
        "e. attendance: Represents the attendance record of the student.\n",
        "The class should also include the following methods:\n",
        "a. update_attendance(self, date, status): Updates the attendance record of the\n",
        "student for a given date with the provided status (e.g., present or absent).\n",
        "b. get_attendance(self): Returns the attendance record of the student.\n",
        "c. get_average_attendance(self): Calculates and returns the average\n",
        "attendance percentage of the student based on their attendance record."
      ],
      "metadata": {
        "id": "GEADzE7yaIVk"
      }
    },
    {
      "cell_type": "code",
      "source": [
        "class Student:\n",
        "\n",
        "  def __init__(self,stud_name,age,grade,stud_id):\n",
        "    self.stud_name = stud_name\n",
        "    self.age = age\n",
        "    self.garde = grade\n",
        "    self.stud_id = stud_id\n",
        "    self.attendance = {}\n",
        "\n",
        "  def update_attendance(self,date,status):\n",
        "   self.attendance[date] = status\n",
        "\n",
        "  def get_attendance(self):\n",
        "       print(self.attendance)\n",
        "\n",
        "  def get_average_attendance(self):\n",
        "    total_attendance = len(self.attendance)\n",
        "    print(total_attendance)\n",
        "\n",
        "    total_present = sum(status == \"present\" for status in self.attendance.values())\n",
        "    if total_present >0:\n",
        "       avarage = (total_present / total_attendance) * 100\n",
        "       return avarage\n",
        "    else:\n",
        "        return 0\n",
        "\n",
        "\n",
        "stud = Student(\"Aish\",23,\"class B\",123)"
      ],
      "metadata": {
        "id": "HbKbpVLFZ6ed"
      },
      "execution_count": 92,
      "outputs": []
    },
    {
      "cell_type": "code",
      "source": [
        "stud.update_attendance(\"5-7-2023\",\"present\")"
      ],
      "metadata": {
        "id": "DLeqaO4EkZXJ"
      },
      "execution_count": 97,
      "outputs": []
    },
    {
      "cell_type": "code",
      "source": [
        "stud.get_attendance()"
      ],
      "metadata": {
        "colab": {
          "base_uri": "https://localhost:8080/"
        },
        "id": "46-St3XEl6-X",
        "outputId": "d131c20a-97fe-413b-beef-59c34e0d006b"
      },
      "execution_count": 98,
      "outputs": [
        {
          "output_type": "stream",
          "name": "stdout",
          "text": [
            "{'1-7-2023': 'present', '2-7-2023': 'present', '3-7-2023': 'absent', '4-7-2023': 'present', '5-7-2023': 'present'}\n"
          ]
        }
      ]
    },
    {
      "cell_type": "code",
      "source": [
        "stud.get_average_attendance()"
      ],
      "metadata": {
        "colab": {
          "base_uri": "https://localhost:8080/"
        },
        "id": "YjoQ-bUd2Do-",
        "outputId": "62266544-cce0-4481-a1fa-928444ede700"
      },
      "execution_count": 99,
      "outputs": [
        {
          "output_type": "stream",
          "name": "stdout",
          "text": [
            "5\n"
          ]
        },
        {
          "output_type": "execute_result",
          "data": {
            "text/plain": [
              "80.0"
            ]
          },
          "metadata": {},
          "execution_count": 99
        }
      ]
    },
    {
      "cell_type": "code",
      "source": [],
      "metadata": {
        "id": "MGw7jz5I02Fn"
      },
      "execution_count": null,
      "outputs": []
    }
  ]
}